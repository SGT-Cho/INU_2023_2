{
 "cells": [
  {
   "cell_type": "code",
   "execution_count": 2,
   "id": "a05d6678",
   "metadata": {},
   "outputs": [],
   "source": [
    "import random\n",
    "import time\n",
    "from matplotlib import pyplot as plt"
   ]
  },
  {
   "cell_type": "code",
   "execution_count": 3,
   "id": "a614da90",
   "metadata": {},
   "outputs": [],
   "source": [
    "def checkSort(a, n):\n",
    "    isSorted = True\n",
    "    for i in range(1, n):\n",
    "        if (a[i] > a[i+1]):\n",
    "            isSorted = False\n",
    "        if (not isSorted):\n",
    "            break\n",
    "    if isSorted:\n",
    "        print(\"정렬 완료\")\n",
    "    else:\n",
    "        print(\"정렬 오류 발생\")\n"
   ]
  },
  {
   "cell_type": "code",
   "execution_count": 4,
   "id": "474587de",
   "metadata": {},
   "outputs": [],
   "source": [
    "N=600\n",
    "rand_list=[]\n",
    "rand_list.append(-1)\n",
    "i=0\n",
    "while i<N:\n",
    "    b=random.randrange(0,N)\n",
    "    if b not in rand_list:\n",
    "        rand_list.append(b)\n",
    "        i=i+1\n",
    "rand_list.remove(-1)\n",
    "sorted_list=sorted(rand_list)\n",
    "rand_list.insert(0,-1)\n",
    "reversed_list=list(reversed(sorted_list))\n",
    "sorted_list.insert(0,-1)\n",
    "reversed_list.insert(0,-1)"
   ]
  },
  {
   "cell_type": "code",
   "execution_count": 5,
   "id": "ea594bca",
   "metadata": {},
   "outputs": [],
   "source": [
    "def quickSort(a, l, r):\n",
    "    if r>l:\n",
    "        i=partition(a,l,r)\n",
    "        quickSort(a,l,i-1)\n",
    "        quickSort(a,i+1,r)\n",
    "        \n",
    "\n",
    "def partition(a, l, r):\n",
    "    v=a[r]\n",
    "    i=l-1\n",
    "    j=r\n",
    "    i=i+1\n",
    "    j=j-1\n",
    "    while True:\n",
    "        while(a[i]<v):\n",
    "            i=i+1\n",
    "        while(a[j]>v):\n",
    "            j=j-1\n",
    "        if i>=j:\n",
    "            break\n",
    "        a[i],a[j]=a[j],a[i]\n",
    "    a[i],a[r]=a[r],a[i]\n",
    "    return i\n",
    "\n"
   ]
  },
  {
   "cell_type": "code",
   "execution_count": 6,
   "id": "b32d336d",
   "metadata": {},
   "outputs": [
    {
     "name": "stdout",
     "output_type": "stream",
     "text": [
      "소요시간: 0.0012392997741699219\n",
      "정렬 완료\n"
     ]
    }
   ],
   "source": [
    "start = time.time()\n",
    "quickSort(rand_list,1,N)\n",
    "rand_N_time=time.time()-start\n",
    "print(\"소요시간:\", rand_N_time)\n",
    "checkSort(rand_list,N)"
   ]
  },
  {
   "cell_type": "code",
   "execution_count": 7,
   "id": "de00ba7e",
   "metadata": {},
   "outputs": [
    {
     "name": "stdout",
     "output_type": "stream",
     "text": [
      "소요시간: 0.00851297378540039\n",
      "정렬 완료\n"
     ]
    }
   ],
   "source": [
    "start = time.time()\n",
    "quickSort(sorted_list,1,N)\n",
    "sorted_N_time=time.time() - start\n",
    "print(\"소요시간:\", sorted_N_time)\n",
    "checkSort(rand_list,N)"
   ]
  },
  {
   "cell_type": "code",
   "execution_count": 8,
   "id": "dede89c6",
   "metadata": {},
   "outputs": [
    {
     "name": "stdout",
     "output_type": "stream",
     "text": [
      "소요시간: 0.013752460479736328\n",
      "정렬 완료\n"
     ]
    }
   ],
   "source": [
    "start = time.time()\n",
    "quickSort(reversed_list,1,N)\n",
    "reversed_N_time=time.time() - start\n",
    "print(\"소요시간:\", reversed_N_time)\n",
    "checkSort(rand_list,N)"
   ]
  },
  {
   "cell_type": "code",
   "execution_count": 9,
   "id": "3b307b5b",
   "metadata": {},
   "outputs": [],
   "source": [
    "N=1200\n",
    "rand_list=[]\n",
    "rand_list.append(-1)\n",
    "i=0\n",
    "while i<N:\n",
    "    b=random.randrange(0,N)\n",
    "    if b not in rand_list:\n",
    "        rand_list.append(b)\n",
    "        i=i+1\n",
    "rand_list.remove(-1)\n",
    "sorted_list=sorted(rand_list)\n",
    "rand_list.insert(0,-1)\n",
    "reversed_list=list(reversed(sorted_list))\n",
    "sorted_list.insert(0,-1)\n",
    "reversed_list.insert(0,-1)"
   ]
  },
  {
   "cell_type": "code",
   "execution_count": 10,
   "id": "32be85a4",
   "metadata": {},
   "outputs": [
    {
     "name": "stdout",
     "output_type": "stream",
     "text": [
      "소요시간: 0.0010097026824951172\n",
      "정렬 완료\n"
     ]
    }
   ],
   "source": [
    "start = time.time()\n",
    "quickSort(rand_list,1,N)\n",
    "rand_2N_time=time.time()-start\n",
    "print(\"소요시간:\", rand_2N_time)\n",
    "checkSort(rand_list,N)"
   ]
  },
  {
   "cell_type": "code",
   "execution_count": 11,
   "id": "392a8652",
   "metadata": {},
   "outputs": [
    {
     "name": "stdout",
     "output_type": "stream",
     "text": [
      "소요시간: 0.038919687271118164\n",
      "정렬 완료\n"
     ]
    }
   ],
   "source": [
    "start = time.time()\n",
    "quickSort(sorted_list,1,N)\n",
    "sorted_2N_time=time.time() - start\n",
    "print(\"소요시간:\", sorted_2N_time)\n",
    "checkSort(rand_list,N)"
   ]
  },
  {
   "cell_type": "code",
   "execution_count": 12,
   "id": "c50c1a71",
   "metadata": {},
   "outputs": [
    {
     "name": "stdout",
     "output_type": "stream",
     "text": [
      "소요시간: 0.03563714027404785\n",
      "정렬 완료\n"
     ]
    }
   ],
   "source": [
    "start = time.time()\n",
    "quickSort(reversed_list,1,N)\n",
    "reversed_2N_time=time.time() - start\n",
    "print(\"소요시간:\", reversed_2N_time)\n",
    "checkSort(rand_list,N)"
   ]
  },
  {
   "cell_type": "code",
   "execution_count": 13,
   "id": "a00357c3",
   "metadata": {},
   "outputs": [],
   "source": [
    "N=1800\n",
    "rand_list=[]\n",
    "rand_list.append(-1)\n",
    "i=0\n",
    "while i<N:\n",
    "    b=random.randrange(0,N)\n",
    "    if b not in rand_list:\n",
    "        rand_list.append(b)\n",
    "        i=i+1\n",
    "sorted_list=sorted(rand_list)\n",
    "reversed_list=list(reversed(sorted_list))\n",
    "reversed_list.remove(-1)\n",
    "reversed_list.insert(0,-1)"
   ]
  },
  {
   "cell_type": "code",
   "execution_count": 14,
   "id": "2013c7ee",
   "metadata": {},
   "outputs": [
    {
     "name": "stdout",
     "output_type": "stream",
     "text": [
      "소요시간: 0.002017498016357422\n",
      "정렬 완료\n"
     ]
    }
   ],
   "source": [
    "start = time.time()\n",
    "quickSort(rand_list,1,N)\n",
    "rand_3N_time=time.time()-start\n",
    "print(\"소요시간:\", rand_3N_time)\n",
    "checkSort(rand_list,N)"
   ]
  },
  {
   "cell_type": "code",
   "execution_count": 15,
   "id": "55741f50",
   "metadata": {},
   "outputs": [
    {
     "name": "stdout",
     "output_type": "stream",
     "text": [
      "소요시간: 0.08265852928161621\n",
      "정렬 완료\n"
     ]
    }
   ],
   "source": [
    "start = time.time()\n",
    "quickSort(sorted_list,1,N)\n",
    "sorted_3N_time=time.time() - start\n",
    "print(\"소요시간:\", sorted_3N_time)\n",
    "checkSort(rand_list,N)"
   ]
  },
  {
   "cell_type": "code",
   "execution_count": 16,
   "id": "c2478a02",
   "metadata": {},
   "outputs": [
    {
     "name": "stdout",
     "output_type": "stream",
     "text": [
      "소요시간: 0.08113789558410645\n",
      "정렬 완료\n"
     ]
    }
   ],
   "source": [
    "start = time.time()\n",
    "quickSort(reversed_list,1,N)\n",
    "reversed_3N_time=time.time() - start\n",
    "print(\"소요시간:\", reversed_3N_time)\n",
    "checkSort(rand_list,N)"
   ]
  },
  {
   "cell_type": "code",
   "execution_count": 17,
   "id": "414ff503",
   "metadata": {},
   "outputs": [
    {
     "data": {
      "image/png": "[encoded data removed]",
      "text/plain": [
       "<Figure size 640x480 with 1 Axes>"
      ]
     },
     "metadata": {},
     "output_type": "display_data"
    }
   ],
   "source": [
    "plt.plot([600,1200,1800],[rand_N_time,rand_2N_time,rand_3N_time])\n",
    "plt.plot([600,1200,1800],[sorted_N_time,sorted_2N_time,sorted_3N_time])\n",
    "plt.plot([600,1200,1800],[reversed_N_time,reversed_2N_time,reversed_3N_time])\n",
    "plt.legend(['Random','Sorted','Reversed'])\n",
    "plt.xlabel('N')\n",
    "plt.ylabel('time taken')\n",
    "plt.show()"
   ]
  },
  {
   "cell_type": "code",
   "execution_count": 18,
   "id": "3700fba3",
   "metadata": {},
   "outputs": [],
   "source": [
    "def mergesort(arr):\n",
    "    def sort(low, high):\n",
    "        if high - low < 2:\n",
    "            return\n",
    "        mid = (low + high) // 2\n",
    "        sort(low, mid)\n",
    "        sort(mid, high)\n",
    "        merge(low, mid, high)\n",
    "\n",
    "    def merge(low, mid, high):\n",
    "        temp = []\n",
    "        l, h = low, mid\n",
    "\n",
    "        while l < mid and h < high:\n",
    "            if arr[l] < arr[h]:\n",
    "                temp.append(arr[l])\n",
    "                l += 1\n",
    "            else:\n",
    "                temp.append(arr[h])\n",
    "                h += 1\n",
    "\n",
    "        while l < mid:\n",
    "            temp.append(arr[l])\n",
    "            l += 1\n",
    "        while h < high:\n",
    "            temp.append(arr[h])\n",
    "            h += 1\n",
    "\n",
    "        for i in range(low, high):\n",
    "            arr[i] = temp[i - low]\n",
    "\n",
    "    return sort(0, len(arr))"
   ]
  },
  {
   "cell_type": "code",
   "execution_count": 19,
   "id": "422653e5",
   "metadata": {},
   "outputs": [],
   "source": [
    "N=600\n",
    "rand_list=[]\n",
    "rand_list.append(-1)\n",
    "i=0\n",
    "while i<N:\n",
    "    b=random.randrange(0,N)\n",
    "    if b not in rand_list:\n",
    "        rand_list.append(b)\n",
    "        i=i+1\n",
    "rand_list.remove(-1)\n",
    "sorted_list=sorted(rand_list)\n",
    "rand_list.insert(0,-1)\n",
    "reversed_list=list(reversed(sorted_list))\n",
    "sorted_list.insert(0,-1)\n",
    "reversed_list.insert(0,-1)"
   ]
  },
  {
   "cell_type": "code",
   "execution_count": 20,
   "id": "8c0272f9",
   "metadata": {},
   "outputs": [
    {
     "name": "stdout",
     "output_type": "stream",
     "text": [
      "소요시간: 0.0015900135040283203\n",
      "정렬 완료\n"
     ]
    }
   ],
   "source": [
    "start = time.time()\n",
    "mergesort(rand_list)\n",
    "rand_N_time=time.time()-start\n",
    "print(\"소요시간:\", rand_N_time)\n",
    "checkSort(rand_list,N)"
   ]
  },
  {
   "cell_type": "code",
   "execution_count": 21,
   "id": "a73e8f31",
   "metadata": {},
   "outputs": [
    {
     "name": "stdout",
     "output_type": "stream",
     "text": [
      "소요시간: 0.0019986629486083984\n",
      "정렬 완료\n"
     ]
    }
   ],
   "source": [
    "start = time.time()\n",
    "mergesort(sorted_list)\n",
    "sorted_N_time=time.time() - start\n",
    "print(\"소요시간:\", sorted_N_time)\n",
    "checkSort(rand_list,N)"
   ]
  },
  {
   "cell_type": "code",
   "execution_count": 22,
   "id": "f62ff475",
   "metadata": {},
   "outputs": [
    {
     "name": "stdout",
     "output_type": "stream",
     "text": [
      "소요시간: 0.002505064010620117\n",
      "정렬 완료\n"
     ]
    }
   ],
   "source": [
    "start = time.time()\n",
    "mergesort(reversed_list)\n",
    "reversed_N_time=time.time() - start\n",
    "print(\"소요시간:\", reversed_N_time)\n",
    "checkSort(rand_list,N)"
   ]
  },
  {
   "cell_type": "code",
   "execution_count": 23,
   "id": "ec7f6a4f",
   "metadata": {},
   "outputs": [],
   "source": [
    "N=1200\n",
    "rand_list=[]\n",
    "rand_list.append(-1)\n",
    "i=0\n",
    "while i<N:\n",
    "    b=random.randrange(0,N)\n",
    "    if b not in rand_list:\n",
    "        rand_list.append(b)\n",
    "        i=i+1\n",
    "rand_list.remove(-1)\n",
    "sorted_list=sorted(rand_list)\n",
    "rand_list.insert(0,-1)\n",
    "reversed_list=list(reversed(sorted_list))\n",
    "sorted_list.insert(0,-1)\n",
    "reversed_list.insert(0,-1)"
   ]
  },
  {
   "cell_type": "code",
   "execution_count": 24,
   "id": "3e5ea83d",
   "metadata": {},
   "outputs": [
    {
     "name": "stdout",
     "output_type": "stream",
     "text": [
      "소요시간: 0.004507541656494141\n",
      "정렬 완료\n"
     ]
    }
   ],
   "source": [
    "start = time.time()\n",
    "mergesort(rand_list)\n",
    "rand_2N_time=time.time()-start\n",
    "print(\"소요시간:\", rand_2N_time)\n",
    "checkSort(rand_list,N)"
   ]
  },
  {
   "cell_type": "code",
   "execution_count": 25,
   "id": "fe5297f4",
   "metadata": {},
   "outputs": [
    {
     "name": "stdout",
     "output_type": "stream",
     "text": [
      "소요시간: 0.002997875213623047\n",
      "정렬 완료\n"
     ]
    }
   ],
   "source": [
    "start = time.time()\n",
    "mergesort(sorted_list)\n",
    "sorted_2N_time=time.time() - start\n",
    "print(\"소요시간:\", sorted_2N_time)\n",
    "checkSort(rand_list,N)"
   ]
  },
  {
   "cell_type": "code",
   "execution_count": 26,
   "id": "f304e81a",
   "metadata": {},
   "outputs": [
    {
     "name": "stdout",
     "output_type": "stream",
     "text": [
      "소요시간: 0.003099203109741211\n",
      "정렬 완료\n"
     ]
    }
   ],
   "source": [
    "start = time.time()\n",
    "mergesort(reversed_list)\n",
    "reversed_2N_time=time.time() - start\n",
    "print(\"소요시간:\", reversed_2N_time)\n",
    "checkSort(rand_list,N)"
   ]
  },
  {
   "cell_type": "code",
   "execution_count": 27,
   "id": "f29a8f17",
   "metadata": {},
   "outputs": [],
   "source": [
    "N=1800\n",
    "rand_list=[]\n",
    "rand_list.append(-1)\n",
    "i=0\n",
    "while i<N:\n",
    "    b=random.randrange(0,N)\n",
    "    if b not in rand_list:\n",
    "        rand_list.append(b)\n",
    "        i=i+1\n",
    "sorted_list=sorted(rand_list)\n",
    "reversed_list=list(reversed(sorted_list))\n",
    "reversed_list.remove(-1)\n",
    "reversed_list.insert(0,-1)"
   ]
  },
  {
   "cell_type": "code",
   "execution_count": 28,
   "id": "7643ba81",
   "metadata": {},
   "outputs": [
    {
     "name": "stdout",
     "output_type": "stream",
     "text": [
      "소요시간: 0.005309343338012695\n",
      "정렬 완료\n"
     ]
    }
   ],
   "source": [
    "start = time.time()\n",
    "mergesort(rand_list)\n",
    "rand_3N_time=time.time()-start\n",
    "print(\"소요시간:\", rand_3N_time)\n",
    "checkSort(rand_list,N)"
   ]
  },
  {
   "cell_type": "code",
   "execution_count": 29,
   "id": "82f99094",
   "metadata": {},
   "outputs": [
    {
     "name": "stdout",
     "output_type": "stream",
     "text": [
      "소요시간: 0.006098508834838867\n",
      "정렬 완료\n"
     ]
    }
   ],
   "source": [
    "start = time.time()\n",
    "mergesort(sorted_list)\n",
    "sorted_3N_time=time.time() - start\n",
    "print(\"소요시간:\", sorted_3N_time)\n",
    "checkSort(rand_list,N)"
   ]
  },
  {
   "cell_type": "code",
   "execution_count": 30,
   "id": "4a79b10b",
   "metadata": {},
   "outputs": [
    {
     "name": "stdout",
     "output_type": "stream",
     "text": [
      "소요시간: 0.004460573196411133\n",
      "정렬 완료\n"
     ]
    }
   ],
   "source": [
    "start = time.time()\n",
    "mergesort(reversed_list)\n",
    "reversed_3N_time=time.time() - start\n",
    "print(\"소요시간:\", reversed_3N_time)\n",
    "checkSort(rand_list,N)"
   ]
  },
  {
   "cell_type": "code",
   "execution_count": 31,
   "id": "d2178131",
   "metadata": {},
   "outputs": [
    {
     "data": {
      "image/png": "[encoded data removed]",
      "text/plain": [
       "<Figure size 640x480 with 1 Axes>"
      ]
     },
     "metadata": {},
     "output_type": "display_data"
    }
   ],
   "source": [
    "plt.plot([600,1200,1800],[rand_N_time,rand_2N_time,rand_3N_time])\n",
    "plt.plot([600,1200,1800],[sorted_N_time,sorted_2N_time,sorted_3N_time])\n",
    "plt.plot([600,1200,1800],[reversed_N_time,reversed_2N_time,reversed_3N_time])\n",
    "plt.legend(['Random','Sorted','Reversed'])\n",
    "plt.xlabel('N')\n",
    "plt.ylabel('time taken')\n",
    "plt.show()"
   ]
  },
  {
   "cell_type": "code",
   "execution_count": null,
   "id": "f185d71d",
   "metadata": {},
   "outputs": [],
   "source": []
  },
  {
   "cell_type": "code",
   "execution_count": 32,
   "id": "bf0e6bcc",
   "metadata": {},
   "outputs": [],
   "source": [
    "def heapify(unsorted, index, heap_size):\n",
    "  largest = index\n",
    "  left = 2 * index + 1\n",
    "  right = 2 * index + 2\n",
    "  \n",
    "  if left < heap_size and unsorted[left] > unsorted[largest]:\n",
    "    largest = left\n",
    "    \n",
    "  if right < heap_size and unsorted[right] > unsorted[largest]:\n",
    "    largest = right\n",
    "    \n",
    "  if largest != index:\n",
    "    unsorted[largest], unsorted[index] = unsorted[index], unsorted[largest]\n",
    "    heapify(unsorted, largest, heap_size)\n",
    "\n",
    "def heap_sort(unsorted):\n",
    "  n = len(unsorted)\n",
    "  \n",
    "  for i in range(n // 2 - 1, -1, -1):\n",
    "    heapify(unsorted, i, n)\n",
    "    \n",
    "  for i in range(n - 1, 0, -1):\n",
    "    unsorted[0], unsorted[i] = unsorted[i], unsorted[0]\n",
    "    heapify(unsorted, 0, i)\n",
    "\n",
    "  return unsorted"
   ]
  },
  {
   "cell_type": "code",
   "execution_count": 33,
   "id": "f11078b4",
   "metadata": {},
   "outputs": [],
   "source": [
    "N=600\n",
    "rand_list=[]\n",
    "i=0\n",
    "while i<N:\n",
    "    b=random.randrange(0,N)\n",
    "    if b not in rand_list:\n",
    "        rand_list.append(b)\n",
    "        i=i+1\n",
    "sorted_list=sorted(rand_list)\n",
    "reversed_list=list(reversed(sorted_list))"
   ]
  },
  {
   "cell_type": "code",
   "execution_count": 34,
   "id": "f8c3b3d4",
   "metadata": {},
   "outputs": [
    {
     "name": "stdout",
     "output_type": "stream",
     "text": [
      "소요시간: 0.0019991397857666016\n",
      "정렬 완료\n"
     ]
    }
   ],
   "source": [
    "start = time.time()\n",
    "heap_sort(rand_list)\n",
    "rand_N_time=time.time()-start\n",
    "print(\"소요시간:\", rand_N_time)\n",
    "checkSort(rand_list,N-1)"
   ]
  },
  {
   "cell_type": "code",
   "execution_count": 35,
   "id": "938e90cd",
   "metadata": {},
   "outputs": [
    {
     "name": "stdout",
     "output_type": "stream",
     "text": [
      "소요시간: 0.002001523971557617\n",
      "정렬 완료\n"
     ]
    }
   ],
   "source": [
    "start = time.time()\n",
    "heap_sort(sorted_list)\n",
    "sorted_N_time=time.time() - start\n",
    "print(\"소요시간:\", sorted_N_time)\n",
    "checkSort(rand_list,N-1)"
   ]
  },
  {
   "cell_type": "code",
   "execution_count": 36,
   "id": "c947c57b",
   "metadata": {},
   "outputs": [
    {
     "name": "stdout",
     "output_type": "stream",
     "text": [
      "소요시간: 0.002015352249145508\n",
      "정렬 완료\n"
     ]
    }
   ],
   "source": [
    "start = time.time()\n",
    "heap_sort(reversed_list)\n",
    "reversed_N_time=time.time() - start\n",
    "print(\"소요시간:\", reversed_N_time)\n",
    "checkSort(rand_list,N-1)"
   ]
  },
  {
   "cell_type": "code",
   "execution_count": 37,
   "id": "a5911baa",
   "metadata": {},
   "outputs": [],
   "source": [
    "N=1200\n",
    "rand_list=[]\n",
    "i=0\n",
    "while i<N:\n",
    "    b=random.randrange(0,N)\n",
    "    if b not in rand_list:\n",
    "        rand_list.append(b)\n",
    "        i=i+1\n",
    "sorted_list=sorted(rand_list)\n",
    "reversed_list=list(reversed(sorted_list))"
   ]
  },
  {
   "cell_type": "code",
   "execution_count": 38,
   "id": "d41cc3c7",
   "metadata": {},
   "outputs": [
    {
     "name": "stdout",
     "output_type": "stream",
     "text": [
      "소요시간: 0.004003286361694336\n",
      "정렬 완료\n"
     ]
    }
   ],
   "source": [
    "start = time.time()\n",
    "heap_sort(rand_list)\n",
    "rand_2N_time=time.time()-start\n",
    "print(\"소요시간:\", rand_2N_time)\n",
    "checkSort(rand_list,N-1)"
   ]
  },
  {
   "cell_type": "code",
   "execution_count": 39,
   "id": "23285260",
   "metadata": {},
   "outputs": [
    {
     "name": "stdout",
     "output_type": "stream",
     "text": [
      "소요시간: 0.00299072265625\n",
      "정렬 완료\n"
     ]
    }
   ],
   "source": [
    "start = time.time()\n",
    "heap_sort(sorted_list)\n",
    "sorted_2N_time=time.time() - start\n",
    "print(\"소요시간:\", sorted_2N_time)\n",
    "checkSort(rand_list,N-1)"
   ]
  },
  {
   "cell_type": "code",
   "execution_count": 40,
   "id": "1182ea7e",
   "metadata": {},
   "outputs": [
    {
     "name": "stdout",
     "output_type": "stream",
     "text": [
      "소요시간: 0.002512216567993164\n",
      "정렬 완료\n"
     ]
    }
   ],
   "source": [
    "start = time.time()\n",
    "heap_sort(reversed_list)\n",
    "reversed_2N_time=time.time() - start\n",
    "print(\"소요시간:\", reversed_2N_time)\n",
    "checkSort(rand_list,N-1)"
   ]
  },
  {
   "cell_type": "code",
   "execution_count": 41,
   "id": "a787b2e5",
   "metadata": {},
   "outputs": [],
   "source": [
    "N=1800\n",
    "rand_list=[]\n",
    "i=0\n",
    "while i<N:\n",
    "    b=random.randrange(0,N)\n",
    "    if b not in rand_list:\n",
    "        rand_list.append(b)\n",
    "        i=i+1\n",
    "sorted_list=sorted(rand_list)\n",
    "reversed_list=list(reversed(sorted_list))"
   ]
  },
  {
   "cell_type": "code",
   "execution_count": 42,
   "id": "ca3d5943",
   "metadata": {},
   "outputs": [
    {
     "name": "stdout",
     "output_type": "stream",
     "text": [
      "소요시간: 0.0053462982177734375\n",
      "정렬 완료\n"
     ]
    }
   ],
   "source": [
    "start = time.time()\n",
    "heap_sort(rand_list)\n",
    "rand_3N_time=time.time()-start\n",
    "print(\"소요시간:\", rand_3N_time)\n",
    "checkSort(rand_list,N-1)"
   ]
  },
  {
   "cell_type": "code",
   "execution_count": 43,
   "id": "accd7ce0",
   "metadata": {},
   "outputs": [
    {
     "name": "stdout",
     "output_type": "stream",
     "text": [
      "소요시간: 0.007904767990112305\n",
      "정렬 완료\n"
     ]
    }
   ],
   "source": [
    "start = time.time()\n",
    "heap_sort(sorted_list)\n",
    "sorted_3N_time=time.time() - start\n",
    "print(\"소요시간:\", sorted_3N_time)\n",
    "checkSort(rand_list,N-1)"
   ]
  },
  {
   "cell_type": "code",
   "execution_count": 44,
   "id": "6f36c49d",
   "metadata": {},
   "outputs": [
    {
     "name": "stdout",
     "output_type": "stream",
     "text": [
      "소요시간: 0.005006074905395508\n",
      "정렬 완료\n"
     ]
    }
   ],
   "source": [
    "start = time.time()\n",
    "heap_sort(reversed_list)\n",
    "reversed_3N_time=time.time() - start\n",
    "print(\"소요시간:\", reversed_3N_time)\n",
    "checkSort(rand_list,N-1)"
   ]
  },
  {
   "cell_type": "code",
   "execution_count": 45,
   "id": "6eaf3a43",
   "metadata": {},
   "outputs": [
    {
     "data": {
      "image/png": "[encoded data removed]",
      "text/plain": [
       "<Figure size 640x480 with 1 Axes>"
      ]
     },
     "metadata": {},
     "output_type": "display_data"
    }
   ],
   "source": [
    "plt.plot([600,1200,1800],[rand_N_time,rand_2N_time,rand_3N_time])\n",
    "plt.plot([600,1200,1800],[sorted_N_time,sorted_2N_time,sorted_3N_time])\n",
    "plt.plot([600,1200,1800],[reversed_N_time,reversed_2N_time,reversed_3N_time])\n",
    "plt.legend(['Random','Sorted','Reversed'])\n",
    "plt.xlabel('N')\n",
    "plt.ylabel('time taken')\n",
    "plt.show()"
   ]
  },
  {
   "cell_type": "code",
   "execution_count": 46,
   "id": "b38a31dd",
   "metadata": {},
   "outputs": [],
   "source": [
    "import numpy as np"
   ]
  },
  {
   "cell_type": "code",
   "execution_count": 67,
   "id": "6e08ffe0",
   "metadata": {},
   "outputs": [],
   "source": [
    "def squareSum(N,x1,y1,x2,y2):\n",
    "    a=np.zeros((N,N), dtype=int)\n",
    "    for i in range(N):\n",
    "        k=i+1\n",
    "        for j in range(N):\n",
    "\n",
    "            a[j][i]=k\n",
    "            k+=1\n",
    "    print(a)\n",
    "    total=0\n",
    "    for x in range(x1-1,x2):\n",
    "        for y in range(y1-1,y2):\n",
    "            total+=a[x][y]\n",
    "    return total\n",
    "        "
   ]
  },
  {
   "cell_type": "code",
   "execution_count": 69,
   "id": "97e0cd13",
   "metadata": {},
   "outputs": [
    {
     "name": "stdout",
     "output_type": "stream",
     "text": [
      "[[1 2 3 4]\n",
      " [2 3 4 5]\n",
      " [3 4 5 6]\n",
      " [4 5 6 7]]\n"
     ]
    },
    {
     "data": {
      "text/plain": [
       "27"
      ]
     },
     "execution_count": 69,
     "metadata": {},
     "output_type": "execute_result"
    }
   ],
   "source": [
    "squareSum(4,2,2,3,4)"
   ]
  }
 ],
 "metadata": {
  "kernelspec": {
   "display_name": "inu",
   "language": "python",
   "name": "python3"
  },
  "language_info": {
   "codemirror_mode": {
    "name": "ipython",
    "version": 3
   },
   "file_extension": ".py",
   "mimetype": "text/x-python",
   "name": "python",
   "nbconvert_exporter": "python",
   "pygments_lexer": "ipython3",
   "version": "3.7.16"
  }
 },
 "nbformat": 4,
 "nbformat_minor": 5
}
